{
 "cells": [
  {
   "cell_type": "code",
   "execution_count": 68,
   "metadata": {},
   "outputs": [],
   "source": [
    "import numpy as np\n",
    "import pandas as pd\n",
    "import csv\n",
    "import matplotlib.pyplot as plt"
   ]
  },
  {
   "cell_type": "code",
   "execution_count": 69,
   "metadata": {},
   "outputs": [],
   "source": [
    "df1, df2, df3, df4, df5, df6, df7, df8, df9 = pd.read_csv('./Data/202201-divvy-tripdata.csv'), pd.read_csv('./Data/202202-divvy-tripdata.csv'), pd.read_csv('./Data/202203-divvy-tripdata.csv'), pd.read_csv('./Data/202204-divvy-tripdata.csv'), pd.read_csv('./Data/202205-divvy-tripdata.csv'), pd.read_csv('./Data/202206-divvy-tripdata.csv'), pd.read_csv('./Data/202207-divvy-tripdata.csv'), pd.read_csv('./Data/202208-divvy-tripdata.csv'), pd.read_csv('./Data/202209-divvy-tripdata.csv')\n",
    "df10, df11, df12 = pd.read_csv('./Data/202210-divvy-tripdata.csv'), pd.read_csv('./Data/202211-divvy-tripdata.csv'), pd.read_csv('./Data/202212-divvy-tripdata.csv')"
   ]
  },
  {
   "cell_type": "code",
   "execution_count": 70,
   "metadata": {},
   "outputs": [
    {
     "name": "stdout",
     "output_type": "stream",
     "text": [
      "Number of rows before cleaning:  5667717\n"
     ]
    }
   ],
   "source": [
    "# join 12 dataframes into one\n",
    "df = pd.concat([df1, df2, df3, df4, df5, df6, df7, df8, df9, df10, df11, df12], ignore_index = True)\n",
    "# print(df.tail())\n",
    "# count the number of rows\n",
    "print(\"Number of rows before cleaning: \", len(df['ride_id']))"
   ]
  },
  {
   "cell_type": "code",
   "execution_count": 71,
   "metadata": {},
   "outputs": [
    {
     "name": "stdout",
     "output_type": "stream",
     "text": [
      "Numbers of ride_id duplicates: 0\n",
      "Number of null values in each column: \n",
      "ride_id                    0\n",
      "rideable_type              0\n",
      "started_at                 0\n",
      "ended_at                   0\n",
      "start_station_name    833064\n",
      "start_station_id      833064\n",
      "end_station_name      892742\n",
      "end_station_id        892742\n",
      "start_lat                  0\n",
      "start_lng                  0\n",
      "end_lat                 5858\n",
      "end_lng                 5858\n",
      "member_casual              0\n",
      "dtype: int64\n"
     ]
    }
   ],
   "source": [
    "# check for ride_id duplicates\n",
    "print(\"Numbers of ride_id duplicates: \" + str(df.duplicated(subset = 'ride_id').sum()))\n",
    "# create a dataframe that counts the numbers of null values in each column\n",
    "null_values = df.isnull().sum()\n",
    "print(\"Number of null values in each column: \")\n",
    "print(null_values)"
   ]
  },
  {
   "cell_type": "code",
   "execution_count": 72,
   "metadata": {},
   "outputs": [
    {
     "name": "stdout",
     "output_type": "stream",
     "text": [
      "Number of start stations with 'test' in their id: 2011\n",
      "Number of end stations with 'test' in their id: 243\n",
      "Number of start stations with 'test' in their name: 1\n",
      "Number of end stations with 'test' in their name: 1\n"
     ]
    }
   ],
   "source": [
    "# count the numbers of stations with 'test' in their ids, names\n",
    "print(\"Number of start stations with 'test' in their id: \" + str(df['start_station_id'].str.contains('test', case = False).sum()))\n",
    "print(\"Number of end stations with 'test' in their id: \" + str(df['end_station_id'].str.contains('test', case = False).sum()))\n",
    "print(\"Number of start stations with 'test' in their name: \" + str(df['start_station_name'].str.contains('test', case = False).sum()))\n",
    "print(\"Number of end stations with 'test' in their name: \" + str(df['end_station_name'].str.contains('test', case = False).sum()))"
   ]
  },
  {
   "cell_type": "code",
   "execution_count": 73,
   "metadata": {},
   "outputs": [
    {
     "name": "stdout",
     "output_type": "stream",
     "text": [
      "Number of rides with duration < 60s: 121089\n",
      "Number of rides with duration > 24hrs: 5360\n"
     ]
    }
   ],
   "source": [
    "# create a column 'ride_duration' = intervals between ended_at and started_at in seconds\n",
    "df['ride_duration'] = pd.to_datetime(df['ended_at']) - pd.to_datetime(df['started_at'])\n",
    "# count rides with duration < 60s or > 24hrs\n",
    "print(\"Number of rides with duration < 60s: \" + str((df['ride_duration'] < '0 days 00:01:00').sum()))\n",
    "print(\"Number of rides with duration > 24hrs: \" + str((df['ride_duration'] > '0 days 24:00:00').sum()))\n"
   ]
  },
  {
   "cell_type": "code",
   "execution_count": 74,
   "metadata": {},
   "outputs": [
    {
     "name": "stdout",
     "output_type": "stream",
     "text": [
      "Number of rows after dropna:  4369360\n"
     ]
    }
   ],
   "source": [
    "# remove null values in the dataframe\n",
    "df = df.dropna()\n",
    "print(\"Number of rows after dropna: \", len(df['ride_id']))"
   ]
  },
  {
   "cell_type": "code",
   "execution_count": 75,
   "metadata": {},
   "outputs": [
    {
     "name": "stdout",
     "output_type": "stream",
     "text": [
      "Number of rows after drop test values: 4367945\n"
     ]
    }
   ],
   "source": [
    "# remove rows with 'test' in their station ids or names\n",
    "df = df[~df['start_station_id'].str.contains('test', case = False)]\n",
    "df = df[~df['end_station_id'].str.contains('test', case = False)]\n",
    "df = df[~df['start_station_name'].str.contains('test', case = False)]\n",
    "df = df[~df['end_station_name'].str.contains('test', case = False)]\n",
    "print(\"Number of rows after drop test values: \" + str(len(df['ride_id'])))"
   ]
  },
  {
   "cell_type": "code",
   "execution_count": 76,
   "metadata": {},
   "outputs": [
    {
     "name": "stdout",
     "output_type": "stream",
     "text": [
      "Number of rows after drop duration < 60s or > 24hrs: 4291293\n"
     ]
    }
   ],
   "source": [
    "# remove rows with duration < 60s or > 24hrs\n",
    "df = df[(df['ride_duration'] >= '0 days 00:01:00') & (df['ride_duration'] <= '0 days 24:00:00')]\n",
    "print(\"Number of rows after drop duration < 60s or > 24hrs: \" + str(len(df['ride_id'])))"
   ]
  },
  {
   "cell_type": "code",
   "execution_count": 77,
   "metadata": {},
   "outputs": [],
   "source": [
    "df.head()\n",
    "# convert ride_duration to seconds\n",
    "df['ride_duration'] = df['ride_duration'].dt.total_seconds()"
   ]
  },
  {
   "cell_type": "code",
   "execution_count": 78,
   "metadata": {},
   "outputs": [],
   "source": [
    "# export df to a csv file\n",
    "df.to_csv('./Data/succint2022.csv', index = False, columns = ['ride_id', 'rideable_type', 'started_at', 'ended_at', 'ride_duration', 'start_station_id', 'end_station_id', 'member_casual'])"
   ]
  }
 ],
 "metadata": {
  "kernelspec": {
   "display_name": "Python 3",
   "language": "python",
   "name": "python3"
  },
  "language_info": {
   "codemirror_mode": {
    "name": "ipython",
    "version": 3
   },
   "file_extension": ".py",
   "mimetype": "text/x-python",
   "name": "python",
   "nbconvert_exporter": "python",
   "pygments_lexer": "ipython3",
   "version": "3.10.6"
  },
  "orig_nbformat": 4,
  "vscode": {
   "interpreter": {
    "hash": "916dbcbb3f70747c44a77c7bcd40155683ae19c65e1c03b4aa3499c5328201f1"
   }
  }
 },
 "nbformat": 4,
 "nbformat_minor": 2
}
