{
 "cells": [
  {
   "cell_type": "code",
   "execution_count": 1,
   "metadata": {},
   "outputs": [],
   "source": [
    "import numpy as np\n",
    "import pandas as pd\n",
    "import matplotlib.pyplot as plt"
   ]
  },
  {
   "cell_type": "code",
   "execution_count": 15,
   "metadata": {},
   "outputs": [],
   "source": [
    "col = 'start_lng'"
   ]
  },
  {
   "cell_type": "code",
   "execution_count": 16,
   "metadata": {},
   "outputs": [
    {
     "name": "stdout",
     "output_type": "stream",
     "text": [
      "12 columns of start_lng have the same max length.\n",
      "Max length of column start_lng is 18\n",
      "12 columns of start_lnghave the same min length.\n",
      "Max length of column start_lng is <built-in function min>\n"
     ]
    }
   ],
   "source": [
    "def getMaxLen(yr):\n",
    "    if yr < 10:\n",
    "        yr = '0' + str(yr)\n",
    "    path = './Data/2022' + str(yr) + '-divvy-tripdata.csv'\n",
    "    df = pd.read_csv(path)\n",
    "    if df[col].dtype == 'object':\n",
    "        return df[col].str.len().max()\n",
    "    else:\n",
    "        return df[col].astype(str).str.len().max()\n",
    "def checkSameMaxLen():\n",
    "    for i in range(1, 12):\n",
    "        for j in range(i+1, 13):\n",
    "            if getMaxLen(i) != getMaxLen(j):\n",
    "                return \"12 columns of \" + col + \" do not have the same max length.\"\n",
    "    return \"12 columns of \" +  col + \" have the same max length.\"\n",
    "def getMaxLen12():\n",
    "    max = 0\n",
    "    for i in range(1, 13):\n",
    "        if getMaxLen(i) > max:\n",
    "            max = getMaxLen(i)\n",
    "    return \"Max length of column \" + col + \" is \" + str(max)\n",
    "\n",
    "def getMinLen(yr):\n",
    "    if yr < 10:\n",
    "        yr = '0' + str(yr)\n",
    "    path = './Data/2022' + str(yr) + '-divvy-tripdata.csv'\n",
    "    df = pd.read_csv(path)\n",
    "    if df[col].dtype == 'object':\n",
    "        return df[col].str.len().min()\n",
    "    else:\n",
    "        return df[col].astype(str).str.len().min()\n",
    "def checkSameMinLen():\n",
    "    for i in range(1, 12):\n",
    "        for j in range(i+1, 13):\n",
    "            if getMinLen(i) != getMinLen(j):\n",
    "                return \"12 columns of \" + col + \" do not have the same min length.\"\n",
    "    return \"12 columns of \" +  col + \" have the same min length.\"\n",
    "def getMinLen12():\n",
    "    max = 0\n",
    "    for i in range(1, 13):\n",
    "        if getMinLen(i) > max:\n",
    "            max = getMinLen(i)\n",
    "    return \"Max length of column \" + col + \" is \" + str(min)\n",
    "\n",
    "\n",
    "\n",
    "print(checkSameMaxLen())\n",
    "print(getMaxLen12())\n",
    "print(checkSameMinLen())\n",
    "print(getMinLen12())"
   ]
  },
  {
   "cell_type": "code",
   "execution_count": 17,
   "metadata": {},
   "outputs": [
    {
     "name": "stdout",
     "output_type": "stream",
     "text": [
      "Max of column start_lng is -73.79647696\n",
      "Min of column start_lng is -87.84\n"
     ]
    }
   ],
   "source": [
    "def getMax(yr):\n",
    "    if yr < 10:\n",
    "        yr = '0' + str(yr)\n",
    "    path = './Data/2022' + str(yr) + '-divvy-tripdata.csv'\n",
    "    df = pd.read_csv(path)\n",
    "    return  df[col].max()\n",
    "\n",
    "def getMax12():\n",
    "    max = getMax(1)\n",
    "    for i in range(2, 13):\n",
    "        if getMax(i) > max:\n",
    "            max = getMax(i)\n",
    "    return \"Max of column \" + col + \" is \" + str(max)\n",
    "\n",
    "def getMin(yr):\n",
    "    if yr < 10:\n",
    "        yr = '0' + str(yr)\n",
    "    path = './Data/2022' + str(yr) + '-divvy-tripdata.csv'\n",
    "    df = pd.read_csv(path)\n",
    "    return  df[col].min()\n",
    "\n",
    "def getMin12():\n",
    "    min = getMin(1)\n",
    "    for i in range(2, 13):\n",
    "        if getMin(i) < min:\n",
    "            min = getMin(i)\n",
    "    return \"Min of column \" + col + \" is \" + str(min)\n",
    "\n",
    "\n",
    "print(getMax12())\n",
    "getMin12()"
   ]
  },
  {
   "cell_type": "code",
   "execution_count": 5,
   "metadata": {},
   "outputs": [],
   "source": [
    "import csv\n",
    "\n",
    "def removeFieldquote(yr):\n",
    "    if yr < 10:\n",
    "        yr = \"0\" + str(yr)\n",
    "    path = \"./Data/2022\"+ str(yr) +\"-divvy-tripdata.csv\"\n",
    "    with open(path, 'r') as f:\n",
    "        reader = csv.reader(f)\n",
    "        my_list = list(reader)\n",
    "    for each in my_list:\n",
    "        each[0] = each[0].replace('\"', '')\n",
    "    with open(path, 'w') as f:\n",
    "        writer = csv.writer(f)\n",
    "        writer.writerows(my_list)\n",
    "        \n",
    "removeFieldquote(12)"
   ]
  }
 ],
 "metadata": {
  "kernelspec": {
   "display_name": "Python 3.10.6 64-bit",
   "language": "python",
   "name": "python3"
  },
  "language_info": {
   "codemirror_mode": {
    "name": "ipython",
    "version": 3
   },
   "file_extension": ".py",
   "mimetype": "text/x-python",
   "name": "python",
   "nbconvert_exporter": "python",
   "pygments_lexer": "ipython3",
   "version": "3.10.6"
  },
  "orig_nbformat": 4,
  "vscode": {
   "interpreter": {
    "hash": "916dbcbb3f70747c44a77c7bcd40155683ae19c65e1c03b4aa3499c5328201f1"
   }
  }
 },
 "nbformat": 4,
 "nbformat_minor": 2
}
